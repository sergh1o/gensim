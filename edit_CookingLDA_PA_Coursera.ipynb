{
 "cells": [
  {
   "cell_type": "markdown",
   "metadata": {},
   "source": [
    "# Programming Assignment: \n",
    "## Готовим LDA по рецептам"
   ]
  },
  {
   "cell_type": "markdown",
   "metadata": {},
   "source": [
    "Как вы уже знаете, в тематическом моделировании делается предположение о том, что для определения тематики порядок слов в документе не важен; об этом гласит гипотеза «мешка слов». Сегодня мы будем работать с несколько нестандартной для тематического моделирования коллекцией, которую можно назвать «мешком ингредиентов», потому что на состоит из рецептов блюд разных кухонь. Тематические модели ищут слова, которые часто вместе встречаются в документах, и составляют из них темы. Мы попробуем применить эту идею к рецептам и найти кулинарные «темы». Эта коллекция хороша тем, что не требует предобработки. Кроме того, эта задача достаточно наглядно иллюстрирует принцип работы тематических моделей.\n",
    "\n",
    "Для выполнения заданий, помимо часто используемых в курсе библиотек, потребуются модули *json* и *gensim*. Первый входит в дистрибутив Anaconda, второй можно поставить командой \n",
    "\n",
    "*pip install gensim*\n",
    "\n",
    "Построение модели занимает некоторое время. На ноутбуке с процессором Intel Core i7 и тактовой частотой 2400 МГц на построение одной модели уходит менее 10 минут."
   ]
  },
  {
   "cell_type": "markdown",
   "metadata": {},
   "source": [
    "### Загрузка данных"
   ]
  },
  {
   "cell_type": "markdown",
   "metadata": {},
   "source": [
    "Коллекция дана в json-формате: для каждого рецепта известны его id, кухня (cuisine) и список ингредиентов, в него входящих. Загрузить данные можно с помощью модуля json (он входит в дистрибутив Anaconda):"
   ]
  },
  {
   "cell_type": "code",
   "execution_count": 1,
   "metadata": {},
   "outputs": [],
   "source": [
    "import json"
   ]
  },
  {
   "cell_type": "code",
   "execution_count": 2,
   "metadata": {},
   "outputs": [],
   "source": [
    "with open(\"recipes.json\") as f:\n",
    "    recipes = json.load(f)"
   ]
  },
  {
   "cell_type": "code",
   "execution_count": 3,
   "metadata": {},
   "outputs": [
    {
     "name": "stdout",
     "output_type": "stream",
     "text": [
      "{'id': 10259, 'cuisine': 'greek', 'ingredients': ['romaine lettuce', 'black olives', 'grape tomatoes', 'garlic', 'pepper', 'purple onion', 'seasoning', 'garbanzo beans', 'feta cheese crumbles']}\n"
     ]
    }
   ],
   "source": [
    "print(recipes[0])"
   ]
  },
  {
   "cell_type": "markdown",
   "metadata": {},
   "source": [
    "### Составление корпуса"
   ]
  },
  {
   "cell_type": "code",
   "execution_count": 4,
   "metadata": {},
   "outputs": [
    {
     "name": "stderr",
     "output_type": "stream",
     "text": [
      "G:\\anaconda\\lib\\site-packages\\gensim\\utils.py:1197: UserWarning: detected Windows; aliasing chunkize to chunkize_serial\n",
      "  warnings.warn(\"detected Windows; aliasing chunkize to chunkize_serial\")\n"
     ]
    },
    {
     "name": "stdout",
     "output_type": "stream",
     "text": [
      "numpy ver= 1.16.4 gensim ver= 3.4.0 python ver= 3.7.3\n"
     ]
    }
   ],
   "source": [
    "from gensim import corpora, models\n",
    "import numpy as np\n",
    "import gensim, platform\n",
    "\n",
    "print(\"numpy ver=\", np.__version__, \"gensim ver=\", gensim.__version__, \"python ver=\", platform.python_version())"
   ]
  },
  {
   "cell_type": "markdown",
   "metadata": {},
   "source": [
    "Наша коллекция небольшая, и целиком помещается в оперативную память. Gensim может работать с такими данными и не требует их сохранения на диск в специальном формате. Для этого коллекция должна быть представлена в виде списка списков, каждый внутренний список соответствует отдельному документу и состоит из его слов. Пример коллекции из двух документов: \n",
    "\n",
    "[[\"hello\", \"world\"], [\"programming\", \"in\", \"python\"]]\n",
    "\n",
    "Преобразуем наши данные в такой формат, а затем создадим объекты corpus и dictionary, с которыми будет работать модель."
   ]
  },
  {
   "cell_type": "code",
   "execution_count": 5,
   "metadata": {},
   "outputs": [],
   "source": [
    "texts = [recipe[\"ingredients\"] for recipe in recipes]\n",
    "dictionary = corpora.Dictionary(texts)   # составляем словарь\n",
    "corpus = [dictionary.doc2bow(text) for text in texts]  # составляем корпус документов"
   ]
  },
  {
   "cell_type": "code",
   "execution_count": 6,
   "metadata": {},
   "outputs": [
    {
     "name": "stdout",
     "output_type": "stream",
     "text": [
      "['romaine lettuce', 'black olives', 'grape tomatoes', 'garlic', 'pepper', 'purple onion', 'seasoning', 'garbanzo beans', 'feta cheese crumbles']\n",
      "[(0, 1), (1, 1), (2, 1), (3, 1), (4, 1), (5, 1), (6, 1), (7, 1), (8, 1)]\n"
     ]
    }
   ],
   "source": [
    "print(texts[0])\n",
    "print(corpus[0])"
   ]
  },
  {
   "cell_type": "markdown",
   "metadata": {},
   "source": [
    "У объекта dictionary есть полезная переменная dictionary.token2id, позволяющая находить соответствие между ингредиентами и их индексами."
   ]
  },
  {
   "cell_type": "markdown",
   "metadata": {},
   "source": [
    "### Обучение модели\n",
    "Вам может понадобиться [документация](https://radimrehurek.com/gensim/models/ldamodel.html) LDA в gensim."
   ]
  },
  {
   "cell_type": "markdown",
   "metadata": {},
   "source": [
    "__Задание 1.__ Обучите модель LDA с 40 темами, установив количество проходов по коллекции 5 и оставив остальные параметры по умолчанию. \n",
    "\n",
    "\n",
    "Затем вызовите метод модели *show_topics*, указав количество тем 40 и количество токенов 10, и сохраните результат (топы ингредиентов в темах) в отдельную переменную. Если при вызове метода *show_topics* указать параметр *formatted=True*, то топы ингредиентов будет удобно выводить на печать, если *formatted=False*, будет удобно работать со списком программно. Выведите топы на печать, рассмотрите темы, а затем ответьте на вопрос:\n",
    "\n",
    "Сколько раз ингредиенты \"salt\", \"sugar\", \"water\", \"mushrooms\", \"chicken\", \"eggs\" встретились среди топов-10 всех 40 тем? При ответе __не нужно__ учитывать составные ингредиенты, например, \"hot water\".\n",
    "\n",
    "Передайте 6 чисел в функцию save_answers1 и загрузите сгенерированный файл в форму.\n",
    "\n",
    "У gensim нет возможности фиксировать случайное приближение через параметры метода, но библиотека использует numpy для инициализации матриц. Поэтому, по утверждению автора библиотеки, фиксировать случайное приближение нужно командой, которая написана в следующей ячейке. __Перед строкой кода с построением модели обязательно вставляйте указанную строку фиксации random.seed.__"
   ]
  },
  {
   "cell_type": "code",
   "execution_count": 7,
   "metadata": {},
   "outputs": [],
   "source": [
    "np.random.seed(76543)\n",
    "# здесь код для построения модели:\n",
    "lda = models.ldamodel.LdaModel(corpus, id2word=dictionary, num_topics=40, passes=5)"
   ]
  },
  {
   "cell_type": "code",
   "execution_count": 8,
   "metadata": {},
   "outputs": [
    {
     "data": {
      "text/plain": [
       "[(0,\n",
       "  '0.084*\"garlic cloves\" + 0.070*\"chopped onion\" + 0.068*\"cooking spray\" + 0.065*\"salt\" + 0.044*\"water\" + 0.042*\"fat free less sodium chicken broth\" + 0.040*\"ground red pepper\" + 0.039*\"sliced green onions\" + 0.026*\"black pepper\" + 0.024*\"pinenuts\"'),\n",
       " (1,\n",
       "  '0.076*\"corn kernels\" + 0.065*\"diced onions\" + 0.054*\"tortillas\" + 0.053*\"salt and ground black pepper\" + 0.052*\"cream cheese\" + 0.044*\"1% low-fat milk\" + 0.039*\"vegetable stock\" + 0.037*\"sliced black olives\" + 0.036*\"cream cheese, soften\" + 0.035*\"chopped fresh chives\"'),\n",
       " (2,\n",
       "  '0.081*\"olive oil\" + 0.055*\"fresh parsley\" + 0.052*\"crushed red pepper\" + 0.042*\"salt\" + 0.041*\"grated parmesan cheese\" + 0.039*\"garlic cloves\" + 0.034*\"cherry tomatoes\" + 0.033*\"low salt chicken broth\" + 0.031*\"butter\" + 0.029*\"green beans\"'),\n",
       " (3,\n",
       "  '0.074*\"bacon\" + 0.073*\"salt\" + 0.061*\"red pepper flakes\" + 0.047*\"ground black pepper\" + 0.046*\"garlic\" + 0.042*\"pasta\" + 0.038*\"onions\" + 0.037*\"chicken thighs\" + 0.036*\"olive oil\" + 0.031*\"fresh dill\"'),\n",
       " (4,\n",
       "  '0.130*\"all-purpose flour\" + 0.124*\"large eggs\" + 0.089*\"salt\" + 0.080*\"milk\" + 0.071*\"butter\" + 0.050*\"sugar\" + 0.041*\"baking powder\" + 0.031*\"powdered sugar\" + 0.026*\"vegetable oil\" + 0.024*\"large egg whites\"'),\n",
       " (5,\n",
       "  '0.079*\"dry white wine\" + 0.064*\"shallots\" + 0.052*\"olive oil\" + 0.039*\"salt\" + 0.030*\"ground cloves\" + 0.030*\"white wine vinegar\" + 0.029*\"butter\" + 0.028*\"arborio rice\" + 0.025*\"saffron threads\" + 0.023*\"ground nutmeg\"'),\n",
       " (6,\n",
       "  '0.075*\"leeks\" + 0.073*\"dry red wine\" + 0.050*\"pork tenderloin\" + 0.045*\"reduced sodium soy sauce\" + 0.044*\"cilantro sprigs\" + 0.034*\"peppercorns\" + 0.031*\"carrots\" + 0.026*\"granny smith apples\" + 0.025*\"beef broth\" + 0.024*\"cremini mushrooms\"'),\n",
       " (7,\n",
       "  '0.088*\"soy sauce\" + 0.054*\"sesame oil\" + 0.046*\"scallions\" + 0.044*\"green onions\" + 0.039*\"corn starch\" + 0.039*\"rice vinegar\" + 0.036*\"sugar\" + 0.034*\"garlic\" + 0.031*\"vegetable oil\" + 0.027*\"fresh ginger\"'),\n",
       " (8,\n",
       "  '0.177*\"garlic powder\" + 0.117*\"cayenne pepper\" + 0.066*\"onion powder\" + 0.044*\"smoked paprika\" + 0.043*\"ground black pepper\" + 0.035*\"black pepper\" + 0.027*\"fine sea salt\" + 0.026*\"salt\" + 0.023*\"greek yogurt\" + 0.022*\"dried thyme\"'),\n",
       " (9,\n",
       "  '0.069*\"olive oil\" + 0.063*\"salt\" + 0.059*\"purple onion\" + 0.055*\"garlic cloves\" + 0.048*\"fresh lemon juice\" + 0.047*\"extra-virgin olive oil\" + 0.045*\"fresh basil\" + 0.045*\"plum tomatoes\" + 0.041*\"ground black pepper\" + 0.033*\"balsamic vinegar\"'),\n",
       " (10,\n",
       "  '0.054*\"broccoli florets\" + 0.051*\"lettuce leaves\" + 0.041*\"chili flakes\" + 0.040*\"crГЁme fraГ®che\" + 0.037*\"radishes\" + 0.032*\"greek style plain yogurt\" + 0.032*\"pork sausages\" + 0.030*\"sharp cheddar cheese\" + 0.029*\"watercress\" + 0.027*\"quickcooking grits\"'),\n",
       " (11,\n",
       "  '0.102*\"lime juice\" + 0.091*\"lime\" + 0.048*\"salt\" + 0.044*\"garlic\" + 0.042*\"fresh cilantro\" + 0.042*\"chopped cilantro\" + 0.039*\"purple onion\" + 0.035*\"jalapeno chilies\" + 0.026*\"mango\" + 0.021*\"olive oil\"'),\n",
       " (12,\n",
       "  '0.083*\"cheese\" + 0.080*\"ricotta cheese\" + 0.075*\"orange juice\" + 0.051*\"sliced mushrooms\" + 0.050*\"baby spinach\" + 0.045*\"vegetable oil cooking spray\" + 0.032*\"frozen chopped spinach\" + 0.029*\"italian sausage\" + 0.028*\"part-skim ricotta cheese\" + 0.026*\"part-skim mozzarella cheese\"'),\n",
       " (13,\n",
       "  '0.078*\"diced tomatoes\" + 0.071*\"dried oregano\" + 0.056*\"onions\" + 0.051*\"tomato sauce\" + 0.048*\"salt\" + 0.044*\"garlic\" + 0.039*\"dried basil\" + 0.039*\"olive oil\" + 0.036*\"tomato paste\" + 0.029*\"ground beef\"'),\n",
       " (14,\n",
       "  '0.066*\"beef\" + 0.051*\"onions\" + 0.047*\"green cabbage\" + 0.044*\"red wine\" + 0.042*\"green peas\" + 0.038*\"goat cheese\" + 0.033*\"beef stock\" + 0.030*\"red cabbage\" + 0.028*\"cooked rice\" + 0.028*\"chili pepper\"'),\n",
       " (15,\n",
       "  '0.128*\"lemon\" + 0.065*\"sugar\" + 0.059*\"fresh mint\" + 0.048*\"orange\" + 0.042*\"boiling water\" + 0.034*\"cold water\" + 0.033*\"water\" + 0.029*\"ground white pepper\" + 0.028*\"almonds\" + 0.023*\"all purpose unbleached flour\"'),\n",
       " (16,\n",
       "  '0.074*\"chopped cilantro fresh\" + 0.069*\"fresh lime juice\" + 0.067*\"jalapeno chilies\" + 0.054*\"white onion\" + 0.040*\"avocado\" + 0.037*\"garlic cloves\" + 0.036*\"salt\" + 0.030*\"coarse salt\" + 0.029*\"ground cumin\" + 0.027*\"ground pepper\"'),\n",
       " (17,\n",
       "  '0.129*\"zucchini\" + 0.071*\"eggplant\" + 0.060*\"onions\" + 0.051*\"olive oil\" + 0.050*\"white wine\" + 0.048*\"garlic\" + 0.045*\"chopped parsley\" + 0.039*\"fresh mushrooms\" + 0.037*\"lean ground beef\" + 0.033*\"raisins\"'),\n",
       " (18,\n",
       "  '0.106*\"parmesan cheese\" + 0.075*\"salt\" + 0.065*\"warm water\" + 0.053*\"olive oil\" + 0.052*\"bell pepper\" + 0.049*\"water\" + 0.036*\"grits\" + 0.031*\"polenta\" + 0.030*\"kale\" + 0.028*\"plain flour\"'),\n",
       " (19,\n",
       "  '0.132*\"unsalted butter\" + 0.071*\"all-purpose flour\" + 0.066*\"salt\" + 0.056*\"sugar\" + 0.055*\"large eggs\" + 0.042*\"whole milk\" + 0.042*\"granulated sugar\" + 0.033*\"buttermilk\" + 0.030*\"large egg yolks\" + 0.029*\"baking powder\"'),\n",
       " (20,\n",
       "  '0.088*\"red wine vinegar\" + 0.069*\"flat leaf parsley\" + 0.052*\"olive oil\" + 0.045*\"tomatoes\" + 0.044*\"extra-virgin olive oil\" + 0.041*\"garlic cloves\" + 0.037*\"sweet onion\" + 0.035*\"ground black pepper\" + 0.034*\"dry bread crumbs\" + 0.034*\"salt\"'),\n",
       " (21,\n",
       "  '0.210*\"chicken broth\" + 0.086*\"boneless skinless chicken breast halves\" + 0.078*\"boneless skinless chicken breasts\" + 0.057*\"cajun seasoning\" + 0.038*\"juice\" + 0.030*\"butter\" + 0.030*\"pepper\" + 0.025*\"onions\" + 0.022*\"garlic salt\" + 0.022*\"boneless chicken breast\"'),\n",
       " (22,\n",
       "  '0.131*\"grated parmesan cheese\" + 0.050*\"olive oil\" + 0.048*\"mozzarella cheese\" + 0.044*\"shredded mozzarella cheese\" + 0.037*\"garlic\" + 0.036*\"salt\" + 0.036*\"italian seasoning\" + 0.035*\"eggs\" + 0.029*\"pepper\" + 0.026*\"pasta sauce\"'),\n",
       " (23,\n",
       "  '0.070*\"brown sugar\" + 0.046*\"soy sauce\" + 0.044*\"salt\" + 0.044*\"water\" + 0.043*\"white pepper\" + 0.038*\"oil\" + 0.038*\"sugar\" + 0.036*\"ketchup\" + 0.036*\"sauce\" + 0.035*\"garlic\"'),\n",
       " (24,\n",
       "  '0.075*\"ground cumin\" + 0.044*\"ground coriander\" + 0.044*\"salt\" + 0.029*\"onions\" + 0.027*\"garlic\" + 0.025*\"ground turmeric\" + 0.024*\"garlic cloves\" + 0.023*\"paprika\" + 0.022*\"vegetable oil\" + 0.022*\"cayenne\"'),\n",
       " (25,\n",
       "  '0.079*\"large shrimp\" + 0.070*\"hot water\" + 0.065*\"chopped garlic\" + 0.053*\"peanut oil\" + 0.046*\"rice wine\" + 0.036*\"hot red pepper flakes\" + 0.029*\"corn oil\" + 0.026*\"fontina cheese\" + 0.024*\"marsala wine\" + 0.024*\"seasoning\"'),\n",
       " (26,\n",
       "  '0.072*\"mirin\" + 0.063*\"chickpeas\" + 0.044*\"mint leaves\" + 0.043*\"spring onions\" + 0.043*\"red pepper\" + 0.037*\"fresh coriander\" + 0.036*\"sake\" + 0.035*\"saffron\" + 0.031*\"soy sauce\" + 0.031*\"sugar\"'),\n",
       " (27,\n",
       "  '0.169*\"heavy cream\" + 0.056*\"grated nutmeg\" + 0.054*\"frozen peas\" + 0.041*\"bread crumbs\" + 0.038*\"unsalted butter\" + 0.036*\"bananas\" + 0.035*\"Tabasco Pepper Sauce\" + 0.031*\"bread\" + 0.028*\"mascarpone\" + 0.027*\"lump crab meat\"'),\n",
       " (28,\n",
       "  '0.107*\"oil\" + 0.084*\"salt\" + 0.048*\"cilantro leaves\" + 0.048*\"green chilies\" + 0.046*\"onions\" + 0.044*\"cumin seed\" + 0.039*\"ground turmeric\" + 0.037*\"water\" + 0.033*\"red chili peppers\" + 0.032*\"chili powder\"'),\n",
       " (29,\n",
       "  '0.075*\"sour cream\" + 0.047*\"chili powder\" + 0.045*\"salsa\" + 0.045*\"flour tortillas\" + 0.040*\"black beans\" + 0.040*\"shredded cheddar cheese\" + 0.038*\"corn tortillas\" + 0.031*\"ground cumin\" + 0.029*\"cilantro\" + 0.027*\"salt\"'),\n",
       " (30,\n",
       "  '0.094*\"sugar\" + 0.080*\"whipping cream\" + 0.076*\"egg yolks\" + 0.055*\"vanilla extract\" + 0.043*\"butter\" + 0.043*\"half & half\" + 0.039*\"egg whites\" + 0.037*\"sweetened condensed milk\" + 0.032*\"water\" + 0.031*\"strawberries\"'),\n",
       " (31,\n",
       "  '0.100*\"fish sauce\" + 0.044*\"coconut milk\" + 0.041*\"shallots\" + 0.037*\"sugar\" + 0.034*\"vegetable oil\" + 0.033*\"fresh lime juice\" + 0.030*\"lemongrass\" + 0.028*\"water\" + 0.023*\"medium shrimp\" + 0.023*\"beansprouts\"'),\n",
       " (32,\n",
       "  '0.134*\"eggs\" + 0.091*\"salt\" + 0.061*\"butter\" + 0.056*\"flour\" + 0.055*\"all-purpose flour\" + 0.055*\"milk\" + 0.052*\"white sugar\" + 0.035*\"sugar\" + 0.032*\"baking powder\" + 0.022*\"water\"'),\n",
       " (33,\n",
       "  '0.053*\"rice\" + 0.052*\"onions\" + 0.047*\"salt\" + 0.045*\"chicken breasts\" + 0.044*\"coriander\" + 0.043*\"curry powder\" + 0.038*\"garlic\" + 0.033*\"ginger\" + 0.032*\"cabbage\" + 0.029*\"tumeric\"'),\n",
       " (34,\n",
       "  '0.079*\"cinnamon sticks\" + 0.074*\"clove\" + 0.053*\"black peppercorns\" + 0.045*\"garam masala\" + 0.036*\"chopped tomatoes\" + 0.036*\"cream\" + 0.034*\"garlic paste\" + 0.032*\"coriander seeds\" + 0.030*\"yoghurt\" + 0.027*\"bay leaves\"'),\n",
       " (35,\n",
       "  '0.059*\"onions\" + 0.051*\"salt\" + 0.050*\"green bell pepper\" + 0.045*\"celery\" + 0.032*\"dried thyme\" + 0.031*\"water\" + 0.028*\"garlic\" + 0.028*\"bay leaves\" + 0.028*\"red bell pepper\" + 0.026*\"hot sauce\"'),\n",
       " (36,\n",
       "  '0.098*\"salt\" + 0.070*\"paprika\" + 0.067*\"onions\" + 0.064*\"pepper\" + 0.057*\"potatoes\" + 0.032*\"carrots\" + 0.031*\"garlic\" + 0.029*\"butter\" + 0.027*\"oregano\" + 0.027*\"olive oil\"'),\n",
       " (37,\n",
       "  '0.132*\"extra-virgin olive oil\" + 0.075*\"freshly ground pepper\" + 0.069*\"sea salt\" + 0.049*\"large garlic cloves\" + 0.046*\"kosher salt\" + 0.038*\"garlic cloves\" + 0.031*\"celery ribs\" + 0.030*\"fresh oregano\" + 0.030*\"ground black pepper\" + 0.029*\"parmigiano reggiano cheese\"'),\n",
       " (38,\n",
       "  '0.088*\"chicken\" + 0.081*\"chicken stock\" + 0.062*\"yellow onion\" + 0.054*\"white vinegar\" + 0.044*\"garlic\" + 0.044*\"onions\" + 0.043*\"ground black pepper\" + 0.033*\"kosher salt\" + 0.027*\"water\" + 0.027*\"salt\"'),\n",
       " (39,\n",
       "  '0.127*\"mayonaise\" + 0.063*\"dijon mustard\" + 0.057*\"cider vinegar\" + 0.057*\"cracked black pepper\" + 0.053*\"cheddar cheese\" + 0.039*\"roma tomatoes\" + 0.038*\"apple cider vinegar\" + 0.036*\"white rice\" + 0.036*\"lemon wedge\" + 0.027*\"french bread\"')]"
      ]
     },
     "execution_count": 8,
     "metadata": {},
     "output_type": "execute_result"
    }
   ],
   "source": [
    "lda.show_topics(num_topics=40, num_words=10, formatted=True)"
   ]
  },
  {
   "cell_type": "code",
   "execution_count": 9,
   "metadata": {},
   "outputs": [
    {
     "name": "stdout",
     "output_type": "stream",
     "text": [
      "dict_values([23, 9, 10, 0, 1, 2])\n"
     ]
    }
   ],
   "source": [
    "ingr_dict = {\"salt\":0, \"sugar\":0, \"water\":0, \"mushrooms\":0, \"chicken\":0, \"eggs\":0}\n",
    "\n",
    "for topic in lda.show_topics(num_topics=40, num_words=10, formatted=False):\n",
    "    for ingredient in topic[1]:\n",
    "        if ingredient[0] in ingr_dict:\n",
    "            ingr_dict[ingredient[0]] +=1\n",
    "print(ingr_dict.values())       \n"
   ]
  },
  {
   "cell_type": "code",
   "execution_count": 10,
   "metadata": {},
   "outputs": [],
   "source": [
    "def save_answers1(c_salt, c_sugar, c_water, c_mushrooms, c_chicken, c_eggs):\n",
    "    with open(\"cooking_LDA_pa_task1.txt\", \"w\") as fout:\n",
    "        fout.write(\" \".join([str(el) for el in [c_salt, c_sugar, c_water, c_mushrooms, c_chicken, c_eggs]]))\n",
    "        \n",
    "save_answers1(*ingr_dict.values())        "
   ]
  },
  {
   "cell_type": "markdown",
   "metadata": {},
   "source": [
    "### Фильтрация словаря\n",
    "В топах тем гораздо чаще встречаются первые три рассмотренных ингредиента, чем последние три. При этом наличие в рецепте курицы, яиц и грибов яснее дает понять, что мы будем готовить, чем наличие соли, сахара и воды. Таким образом, даже в рецептах есть слова, часто встречающиеся в текстах и не несущие смысловой нагрузки, и поэтому их не желательно видеть в темах. Наиболее простой прием борьбы с такими фоновыми элементами — фильтрация словаря по частоте. Обычно словарь фильтруют с двух сторон: убирают очень редкие слова (в целях экономии памяти) и очень частые слова (в целях повышения интерпретируемости тем). Мы уберем только частые слова."
   ]
  },
  {
   "cell_type": "code",
   "execution_count": 11,
   "metadata": {},
   "outputs": [],
   "source": [
    "import copy\n",
    "dictionary2 = copy.deepcopy(dictionary)"
   ]
  },
  {
   "cell_type": "markdown",
   "metadata": {},
   "source": [
    "__Задание 2.__ У объекта dictionary2 есть переменная *dfs* — это словарь, ключами которого являются id токена, а элементами — число раз, сколько слово встретилось во всей коллекции. Сохраните в отдельный список ингредиенты, которые встретились в коллекции больше 4000 раз. Вызовите метод словаря *filter_tokens*, подав в качестве первого аргумента полученный список популярных ингредиентов. Вычислите две величины: dict_size_before и dict_size_after — размер словаря до и после фильтрации.\n",
    "\n",
    "Затем, используя новый словарь, создайте новый корпус документов, corpus2, по аналогии с тем, как это сделано в начале ноутбука. Вычислите две величины: corpus_size_before и corpus_size_after — суммарное количество ингредиентов в корпусе (для каждого документа вычислите число различных ингредиентов в нем и просуммируйте по всем документам) до и после фильтрации.\n",
    "\n",
    "Передайте величины dict_size_before, dict_size_after, corpus_size_before, corpus_size_after в функцию save_answers2 и загрузите сгенерированный файл в форму."
   ]
  },
  {
   "cell_type": "code",
   "execution_count": 12,
   "metadata": {},
   "outputs": [
    {
     "name": "stdout",
     "output_type": "stream",
     "text": [
      "[3, 5, 15, 11, 18, 20, 29, 44, 52, 59, 104, 114]\n"
     ]
    }
   ],
   "source": [
    "often_ingr = [ingr_id for ingr_id, ingr_count in dictionary2.dfs.items() if ingr_count > 4000]\n",
    "print(often_ingr)\n"
   ]
  },
  {
   "cell_type": "code",
   "execution_count": 13,
   "metadata": {},
   "outputs": [
    {
     "data": {
      "text/plain": [
       "6702"
      ]
     },
     "execution_count": 13,
     "metadata": {},
     "output_type": "execute_result"
    }
   ],
   "source": [
    "dictionary2.filter_tokens(bad_ids=often_ingr)\n",
    "len(dictionary2)"
   ]
  },
  {
   "cell_type": "code",
   "execution_count": 14,
   "metadata": {},
   "outputs": [
    {
     "name": "stdout",
     "output_type": "stream",
     "text": [
      "428249 343665\n"
     ]
    }
   ],
   "source": [
    "corpus2 = [dictionary2.doc2bow(text) for text in texts]\n",
    "corpus_size_before = 0\n",
    "for item in corpus:\n",
    "    corpus_size_before += len(item)\n",
    "    \n",
    "corpus_size_after = 0\n",
    "for item in corpus2:\n",
    "    corpus_size_after += len(item)    \n",
    "    \n",
    "print(corpus_size_before, corpus_size_after)    "
   ]
  },
  {
   "cell_type": "code",
   "execution_count": null,
   "metadata": {},
   "outputs": [],
   "source": []
  },
  {
   "cell_type": "code",
   "execution_count": 15,
   "metadata": {},
   "outputs": [],
   "source": [
    "def save_answers2(dict_size_before, dict_size_after, corpus_size_before, corpus_size_after):\n",
    "    with open(\"cooking_LDA_pa_task2.txt\", \"w\") as fout:\n",
    "        fout.write(\"\".join([str(el) for el in [dict_size_before, dict_size_after, corpus_size_before, corpus_size_after]]))\n",
    "        \n",
    "save_answers2(len(dictionary), len(dictionary2), corpus_size_before, corpus_size_after)        "
   ]
  },
  {
   "cell_type": "markdown",
   "metadata": {},
   "source": [
    "### Сравнение когерентностей\n",
    "__Задание 3.__ Постройте еще одну модель по корпусу corpus2 и словарю dictionary2, остальные параметры оставьте такими же, как при первом построении модели. Сохраните новую модель в другую переменную (не перезаписывайте предыдущую модель). Не забудьте про фиксирование seed!\n",
    "\n",
    "Затем воспользуйтесь методом *top_topics* модели, чтобы вычислить ее когерентность. Передайте в качестве аргумента соответствующий модели корпус. Метод вернет список кортежей (топ токенов, когерентность), отсортированных по убыванию последней. Вычислите среднюю по всем темам когерентность для каждой из двух моделей и передайте в функцию save_answers3. "
   ]
  },
  {
   "cell_type": "code",
   "execution_count": 16,
   "metadata": {},
   "outputs": [],
   "source": [
    "np.random.seed(76543)\n",
    "# здесь код для построения модели:\n",
    "lda2 = models.ldamodel.LdaModel(corpus2, id2word=dictionary2, num_topics=40, passes=5)"
   ]
  },
  {
   "cell_type": "code",
   "execution_count": 17,
   "metadata": {},
   "outputs": [],
   "source": [
    "coherence2 = [item[1] for item in lda2.top_topics(corpus=corpus2)]\n",
    "coherence = [item[1] for item in lda.top_topics(corpus=corpus)]"
   ]
  },
  {
   "cell_type": "code",
   "execution_count": 18,
   "metadata": {},
   "outputs": [
    {
     "name": "stdout",
     "output_type": "stream",
     "text": [
      "-5.8049973123624286\n",
      "-8.307382309049668\n"
     ]
    }
   ],
   "source": [
    "print(sum(coherence) / len(coherence))\n",
    "print(sum(coherence2) / len(coherence2))\n"
   ]
  },
  {
   "cell_type": "code",
   "execution_count": 19,
   "metadata": {},
   "outputs": [],
   "source": [
    "def save_answers3(coherence, coherence2):\n",
    "    with open(\"cooking_LDA_pa_task3.txt\", \"w\") as fout:\n",
    "        fout.write(\" \".join([\"%3f\"%el for el in [coherence, coherence2]]))\n",
    "        \n",
    "save_answers3(sum(coherence) / len(coherence), sum(coherence2) / len(coherence2))        "
   ]
  },
  {
   "cell_type": "markdown",
   "metadata": {},
   "source": [
    "Считается, что когерентность хорошо соотносится с человеческими оценками интерпретируемости тем. Поэтому на больших текстовых коллекциях когерентность обычно повышается, если убрать фоновую лексику. Однако в нашем случае этого не произошло. "
   ]
  },
  {
   "cell_type": "markdown",
   "metadata": {},
   "source": [
    "### Изучение влияния гиперпараметра alpha"
   ]
  },
  {
   "cell_type": "markdown",
   "metadata": {},
   "source": [
    "В этом разделе мы будем работать со второй моделью, то есть той, которая построена по сокращенному корпусу. \n",
    "\n",
    "Пока что мы посмотрели только на матрицу темы-слова, теперь давайте посмотрим на матрицу темы-документы. Выведите темы для нулевого (или любого другого) документа из корпуса, воспользовавшись методом *get_document_topics* второй модели:"
   ]
  },
  {
   "cell_type": "code",
   "execution_count": 22,
   "metadata": {},
   "outputs": [
    {
     "data": {
      "text/plain": [
       "[(25, 0.12812501), (30, 0.13393243), (31, 0.6223176)]"
      ]
     },
     "execution_count": 22,
     "metadata": {},
     "output_type": "execute_result"
    }
   ],
   "source": [
    "lda2.get_document_topics(corpus2[0])"
   ]
  },
  {
   "cell_type": "markdown",
   "metadata": {},
   "source": [
    "Также выведите содержимое переменной *.alpha* второй модели:"
   ]
  },
  {
   "cell_type": "code",
   "execution_count": 23,
   "metadata": {},
   "outputs": [
    {
     "data": {
      "text/plain": [
       "array([0.025, 0.025, 0.025, 0.025, 0.025, 0.025, 0.025, 0.025, 0.025,\n",
       "       0.025, 0.025, 0.025, 0.025, 0.025, 0.025, 0.025, 0.025, 0.025,\n",
       "       0.025, 0.025, 0.025, 0.025, 0.025, 0.025, 0.025, 0.025, 0.025,\n",
       "       0.025, 0.025, 0.025, 0.025, 0.025, 0.025, 0.025, 0.025, 0.025,\n",
       "       0.025, 0.025, 0.025, 0.025], dtype=float32)"
      ]
     },
     "execution_count": 23,
     "metadata": {},
     "output_type": "execute_result"
    }
   ],
   "source": [
    "lda2.alpha"
   ]
  },
  {
   "cell_type": "markdown",
   "metadata": {},
   "source": [
    "У вас должно получиться, что документ характеризуется небольшим числом тем. Попробуем поменять гиперпараметр alpha, задающий априорное распределение Дирихле для распределений тем в документах."
   ]
  },
  {
   "cell_type": "markdown",
   "metadata": {},
   "source": [
    "__Задание 4.__ Обучите третью модель: используйте сокращенный корпус (corpus2 и dictionary2) и установите параметр __alpha=1__, passes=5. Не забудьте про фиксацию seed! Выведите темы новой модели для нулевого документа; должно получиться, что распределение над множеством тем практически равномерное. Чтобы убедиться в том, что во второй модели документы описываются гораздо более разреженными распределениями, чем в третьей, посчитайте суммарное количество элементов, __превосходящих 0.01__, в матрицах темы-документы обеих моделей. Другими словами, запросите темы  модели для каждого документа с параметром *minimum_probability=0.01* и просуммируйте число элементов в получаемых массивах. Передайте две суммы (сначала для модели с alpha по умолчанию, затем для модели в alpha=1) в функцию save_answers4."
   ]
  },
  {
   "cell_type": "code",
   "execution_count": 24,
   "metadata": {},
   "outputs": [],
   "source": [
    "np.random.seed(76543)\n",
    "# здесь код для построения модели:\n",
    "lda3 = models.ldamodel.LdaModel(corpus2, id2word=dictionary2, num_topics=40, passes=5, alpha=1)"
   ]
  },
  {
   "cell_type": "code",
   "execution_count": 25,
   "metadata": {},
   "outputs": [
    {
     "data": {
      "text/plain": [
       "[(0, 0.021348547),\n",
       " (1, 0.021298617),\n",
       " (2, 0.021276595),\n",
       " (3, 0.02133854),\n",
       " (4, 0.021280864),\n",
       " (5, 0.021382289),\n",
       " (6, 0.021299774),\n",
       " (7, 0.021277202),\n",
       " (8, 0.021448849),\n",
       " (9, 0.021319227),\n",
       " (10, 0.021643318),\n",
       " (11, 0.04211039),\n",
       " (12, 0.021276595),\n",
       " (13, 0.046972174),\n",
       " (14, 0.021555386),\n",
       " (15, 0.021561926),\n",
       " (16, 0.021458926),\n",
       " (17, 0.02182051),\n",
       " (18, 0.021276603),\n",
       " (19, 0.021417009),\n",
       " (20, 0.024541538),\n",
       " (21, 0.021288438),\n",
       " (22, 0.021276595),\n",
       " (23, 0.021283558),\n",
       " (24, 0.021809576),\n",
       " (25, 0.021577679),\n",
       " (26, 0.021522991),\n",
       " (27, 0.021349145),\n",
       " (28, 0.021500286),\n",
       " (29, 0.021323493),\n",
       " (30, 0.042586215),\n",
       " (31, 0.07104167),\n",
       " (32, 0.02141867),\n",
       " (33, 0.021310372),\n",
       " (34, 0.021290842),\n",
       " (35, 0.021343175),\n",
       " (36, 0.021288766),\n",
       " (37, 0.02129491),\n",
       " (38, 0.021279097),\n",
       " (39, 0.045309637)]"
      ]
     },
     "execution_count": 25,
     "metadata": {},
     "output_type": "execute_result"
    }
   ],
   "source": [
    "lda3.get_document_topics(corpus2[0])"
   ]
  },
  {
   "cell_type": "code",
   "execution_count": null,
   "metadata": {},
   "outputs": [],
   "source": []
  },
  {
   "cell_type": "code",
   "execution_count": null,
   "metadata": {},
   "outputs": [],
   "source": [
    "def save_answers4(count_model2, count_model3):\n",
    "    with open(\"cooking_LDA_pa_task4.txt\", \"w\") as fout:\n",
    "        fout.write(\" \".join([str(el) for el in [count_model2, count_model3]]))"
   ]
  },
  {
   "cell_type": "markdown",
   "metadata": {},
   "source": [
    "Таким образом, гиперпараметр __alpha__ влияет на разреженность распределений тем в документах. Аналогично гиперпараметр __eta__ влияет на разреженность распределений слов в темах."
   ]
  },
  {
   "cell_type": "markdown",
   "metadata": {},
   "source": [
    "### LDA как способ понижения размерности\n",
    "Иногда, распределения над темами, найденные с помощью LDA, добавляют в матрицу объекты-признаки как дополнительные, семантические, признаки, и это может улучшить качество решения задачи. Для простоты давайте просто обучим классификатор рецептов на кухни на признаках, полученных из LDA, и измерим точность (accuracy).\n",
    "\n",
    "__Задание 5.__ Используйте модель, построенную по сокращенной выборке с alpha по умолчанию (вторую модель). Составьте матрицу $\\Theta = p(t|d)$ вероятностей тем в документах; вы можете использовать тот же метод get_document_topics, а также вектор правильных ответов y (в том же порядке, в котором рецепты идут в переменной recipes). Создайте объект RandomForestClassifier со 100 деревьями, с помощью функции cross_val_score вычислите среднюю accuracy по трем фолдам (перемешивать данные не нужно) и передайте в функцию save_answers5."
   ]
  },
  {
   "cell_type": "code",
   "execution_count": null,
   "metadata": {},
   "outputs": [],
   "source": [
    "from sklearn.ensemble import RandomForestClassifier\n",
    "from sklearn.model_selection import cross_val_score"
   ]
  },
  {
   "cell_type": "code",
   "execution_count": null,
   "metadata": {},
   "outputs": [],
   "source": []
  },
  {
   "cell_type": "code",
   "execution_count": null,
   "metadata": {},
   "outputs": [],
   "source": []
  },
  {
   "cell_type": "code",
   "execution_count": null,
   "metadata": {},
   "outputs": [],
   "source": []
  },
  {
   "cell_type": "code",
   "execution_count": null,
   "metadata": {},
   "outputs": [],
   "source": [
    "def save_answers5(accuracy):\n",
    "     with open(\"cooking_LDA_pa_task5.txt\", \"w\") as fout:\n",
    "        fout.write(str(accuracy))"
   ]
  },
  {
   "cell_type": "markdown",
   "metadata": {},
   "source": [
    "Для такого большого количества классов это неплохая точность. Вы можете попроовать обучать RandomForest на исходной матрице частот слов, имеющей значительно большую размерность, и увидеть, что accuracy увеличивается на 10–15%. Таким образом, LDA собрал не всю, но достаточно большую часть информации из выборки, в матрице низкого ранга."
   ]
  },
  {
   "cell_type": "markdown",
   "metadata": {},
   "source": [
    "### LDA — вероятностная модель\n",
    "Матричное разложение, использующееся в LDA, интерпретируется как следующий процесс генерации документов.\n",
    "\n",
    "Для документа $d$ длины $n_d$:\n",
    "1. Из априорного распределения Дирихле с параметром alpha сгенерировать распределение над множеством тем: $\\theta_d \\sim Dirichlet(\\alpha)$\n",
    "1. Для каждого слова $w = 1, \\dots, n_d$:\n",
    "    1. Сгенерировать тему из дискретного распределения $t \\sim \\theta_{d}$\n",
    "    1. Сгенерировать слово из дискретного распределения $w \\sim \\phi_{t}$.\n",
    "    \n",
    "Подробнее об этом в [Википедии](https://en.wikipedia.org/wiki/Latent_Dirichlet_allocation).\n",
    "\n",
    "В контексте нашей задачи получается, что, используя данный генеративный процесс, можно создавать новые рецепты. Вы можете передать в функцию модель и число ингредиентов и сгенерировать рецепт :)"
   ]
  },
  {
   "cell_type": "code",
   "execution_count": null,
   "metadata": {},
   "outputs": [],
   "source": [
    "def generate_recipe(model, num_ingredients):\n",
    "    theta = np.random.dirichlet(model.alpha)\n",
    "    for i in range(num_ingredients):\n",
    "        t = np.random.choice(np.arange(model.num_topics), p=theta)\n",
    "        topic = model.show_topic(t, topn=model.num_terms)\n",
    "        topic_distr = [x[1] for x in topic]\n",
    "        terms = [x[0] for x in topic]\n",
    "        w = np.random.choice(terms, p=topic_distr)\n",
    "        print w"
   ]
  },
  {
   "cell_type": "code",
   "execution_count": null,
   "metadata": {},
   "outputs": [],
   "source": []
  },
  {
   "cell_type": "markdown",
   "metadata": {},
   "source": [
    "### Интерпретация построенной модели\n",
    "Вы можете рассмотреть топы ингредиентов каждой темы. Большиснтво тем сами по себе похожи на рецепты; в некоторых собираются продукты одного вида, например, свежие фрукты или разные виды сыра.\n",
    "\n",
    "Попробуем эмпирически соотнести наши темы с национальными кухнями (cuisine). Построим матрицу $A$ размера темы $x$ кухни, ее элементы $a_{tc}$ — суммы $p(t|d)$ по всем документам $d$, которые отнесены к кухне $c$. Нормируем матрицу на частоты рецептов по разным кухням, чтобы избежать дисбаланса между кухнями. Следующая функция получает на вход объект модели, объект корпуса и исходные данные и возвращает нормированную матрицу $A$. Ее удобно визуализировать с помощью seaborn."
   ]
  },
  {
   "cell_type": "code",
   "execution_count": null,
   "metadata": {},
   "outputs": [],
   "source": [
    "import pandas\n",
    "import seaborn\n",
    "from matplotlib import pyplot as plt\n",
    "%matplotlib inline"
   ]
  },
  {
   "cell_type": "code",
   "execution_count": null,
   "metadata": {},
   "outputs": [],
   "source": [
    "def compute_topic_cuisine_matrix(model, corpus, recipes):\n",
    "    # составляем вектор целевых признаков\n",
    "    targets = list(set([recipe[\"cuisine\"] for recipe in recipes]))\n",
    "    # составляем матрицу\n",
    "    tc_matrix = pandas.DataFrame(data=np.zeros((model.num_topics, len(targets))), columns=targets)\n",
    "    for recipe, bow in zip(recipes, corpus):\n",
    "        recipe_topic = model.get_document_topics(bow)\n",
    "        for t, prob in recipe_topic:\n",
    "            tc_matrix[recipe[\"cuisine\"]][t] += prob\n",
    "    # нормируем матрицу\n",
    "    target_sums = pandas.DataFrame(data=np.zeros((1, len(targets))), columns=targets)\n",
    "    for recipe in recipes:\n",
    "        target_sums[recipe[\"cuisine\"]] += 1\n",
    "    return pandas.DataFrame(tc_matrix.values/target_sums.values, columns=tc_matrix.columns)"
   ]
  },
  {
   "cell_type": "code",
   "execution_count": null,
   "metadata": {},
   "outputs": [],
   "source": [
    "def plot_matrix(tc_matrix):\n",
    "    plt.figure(figsize=(10, 10))\n",
    "    seaborn.heatmap(tc_matrix, square=True)"
   ]
  },
  {
   "cell_type": "code",
   "execution_count": null,
   "metadata": {},
   "outputs": [],
   "source": [
    "# Визуализируйте матрицу\n"
   ]
  },
  {
   "cell_type": "markdown",
   "metadata": {},
   "source": [
    "Чем темнее квадрат в матрице, тем больше связь этой темы с данной кухней. Мы видим, что у нас есть темы, которые связаны с несколькими кухнями. Такие темы показывают набор ингредиентов, которые популярны в кухнях нескольких народов, то есть указывают на схожесть кухонь этих народов. Некоторые темы распределены по всем кухням равномерно, они показывают наборы продуктов, которые часто используются в кулинарии всех стран. "
   ]
  },
  {
   "cell_type": "markdown",
   "metadata": {},
   "source": [
    "Жаль, что в датасете нет названий рецептов, иначе темы было бы проще интерпретировать..."
   ]
  },
  {
   "cell_type": "markdown",
   "metadata": {},
   "source": [
    "### Заключение\n",
    "В этом задании вы построили несколько моделей LDA, посмотрели, на что влияют гиперпараметры модели и как можно использовать построенную модель. "
   ]
  }
 ],
 "metadata": {
  "kernelspec": {
   "display_name": "Python 3",
   "language": "python",
   "name": "python3"
  },
  "language_info": {
   "codemirror_mode": {
    "name": "ipython",
    "version": 3
   },
   "file_extension": ".py",
   "mimetype": "text/x-python",
   "name": "python",
   "nbconvert_exporter": "python",
   "pygments_lexer": "ipython3",
   "version": "3.7.3"
  }
 },
 "nbformat": 4,
 "nbformat_minor": 1
}
